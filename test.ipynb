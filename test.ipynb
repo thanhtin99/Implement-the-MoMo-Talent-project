{
 "cells": [
  {
   "cell_type": "code",
   "execution_count": 151,
   "metadata": {},
   "outputs": [],
   "source": [
    "import pandas as pd\n",
    "import sqlite3"
   ]
  },
  {
   "cell_type": "code",
   "execution_count": 152,
   "metadata": {},
   "outputs": [],
   "source": [
    "file_path = 'D:\\\\Nam_4\\\\Test_momo\\\\MoMo Talent 2024_DA_Case Study Round_Questions.xlsx'\n",
    "transactions_df = pd.read_excel(file_path, sheet_name='Data Transactions')\n",
    "commission_df = pd.read_excel(file_path, sheet_name='Data Commission')\n",
    "user_info_df = pd.read_excel(file_path, sheet_name='Data User_Info')\n",
    "\n",
    "# Xử lý cột Amount để chuyển đổi dấu phân cách hàng nghìn\n",
    "transactions_df['Amount'] = transactions_df['Amount'].str.replace(',', '').astype(int)\n",
    "\n",
    "# Kết nối tới SQLite database (có thể là một file hoặc trong bộ nhớ)\n",
    "conn = sqlite3.connect('momo_data.db')"
   ]
  },
  {
   "cell_type": "code",
   "execution_count": null,
   "metadata": {},
   "outputs": [],
   "source": []
  },
  {
   "cell_type": "code",
   "execution_count": 153,
   "metadata": {},
   "outputs": [
    {
     "data": {
      "text/plain": [
       "13428"
      ]
     },
     "execution_count": 153,
     "metadata": {},
     "output_type": "execute_result"
    }
   ],
   "source": [
    "# Chuyển DataFrame thành bảng SQL\n",
    "transactions_df.to_sql('Transactions', conn, if_exists='replace', index=False)\n",
    "commission_df.to_sql('Commission', conn, if_exists='replace', index=False)\n",
    "user_info_df.to_sql('User_Info', conn, if_exists='replace', index=False)\n"
   ]
  },
  {
   "cell_type": "code",
   "execution_count": 154,
   "metadata": {},
   "outputs": [
    {
     "data": {
      "text/plain": [
       "13495"
      ]
     },
     "execution_count": 154,
     "metadata": {},
     "output_type": "execute_result"
    }
   ],
   "source": [
    "# 1. Thêm cột 'Revenue' vào bảng 'Transactions' và tính tổng doanh thu của MoMo trong tháng 1 năm 2020\n",
    "query = '''\n",
    "    SELECT T.*, (T.Amount * (C.Rate_pct / 100.00)) as revenue\n",
    "    FROM Transactions T\n",
    "    JOIN Commission C ON T.Merchant_id = C.Merchant_id\n",
    "'''\n",
    "transactions_with_revenue = pd.read_sql_query(query, conn)\n",
    "transactions_with_revenue.to_sql('Transactions_with_Revenue', conn, if_exists='replace', index=False)"
   ]
  },
  {
   "cell_type": "code",
   "execution_count": 155,
   "metadata": {},
   "outputs": [
    {
     "name": "stdout",
     "output_type": "stream",
     "text": [
      "Total Revenue in January 2020: 1409827.02\n"
     ]
    }
   ],
   "source": [
    "# Tính tổng doanh thu trong tháng 1 năm 2020\n",
    "query = '''\n",
    "    SELECT SUM(revenue) as total_revenue\n",
    "    FROM Transactions_with_Revenue\n",
    "    WHERE strftime('%Y-%m', date) = '2020-01'\n",
    "'''\n",
    "total_revenue_jan_2020 = pd.read_sql_query(query, conn)\n",
    "print('Total Revenue in January 2020:', total_revenue_jan_2020['total_revenue'].iloc[0])\n"
   ]
  },
  {
   "cell_type": "code",
   "execution_count": 156,
   "metadata": {},
   "outputs": [],
   "source": [
    "# #cau1:\n",
    "# query1 = '''\n",
    "# ALTER TABLE Transactions ADD COLUMN revenue DECIMAL;\n",
    "# UPDATE Transactions\n",
    "# SET revenue = (\n",
    "#     SELECT Amount * Rate_pct *100\n",
    "#     FROM Commission,Transactions\n",
    "#     WHERE Transactions.Merchant_id = Commission.Merchant_id\n",
    "# );\n",
    "\n",
    "\n",
    "# '''\n",
    "\n",
    "# conn.execute(\"PRAGMA foreign_keys = OFF;\")  # Tắt kiểm tra khóa ngoại để ALTER TABLE\n",
    "# conn.executescript(query1)\n",
    "# result1 = pd.read_sql_query(\"SELECT SUM(revenue) AS total_revenue FROM Transactions WHERE strftime('%Y-%m', date) = '2020-01';\", conn)\n",
    "# print(result1)\n"
   ]
  },
  {
   "cell_type": "code",
   "execution_count": 157,
   "metadata": {},
   "outputs": [
    {
     "name": "stdout",
     "output_type": "stream",
     "text": [
      "Most Profitable Month: 2020-10\n"
     ]
    }
   ],
   "source": [
    "# 2. Tháng có lợi nhuận cao nhất của MoMo\n",
    "query = '''\n",
    "    SELECT strftime('%Y-%m', Date) as month, SUM(revenue) as total_revenue\n",
    "    FROM Transactions_with_Revenue\n",
    "    GROUP BY month\n",
    "    ORDER BY total_revenue DESC\n",
    "    LIMIT 1\n",
    "'''\n",
    "most_profitable_month = pd.read_sql_query(query, conn)\n",
    "print('Most Profitable Month:', most_profitable_month['month'].iloc[0])"
   ]
  },
  {
   "cell_type": "code",
   "execution_count": 158,
   "metadata": {},
   "outputs": [
    {
     "name": "stdout",
     "output_type": "stream",
     "text": [
      "Day with Most Revenue (on average): 3\n",
      "Day with Least Revenue (on average): 0\n"
     ]
    }
   ],
   "source": [
    "# 3. Ngày trong tuần MoMo kiếm được nhiều tiền nhất và ít tiền nhất (trung bình)\n",
    "query = '''\n",
    "    SELECT strftime('%w', Date) as weekday, AVG(revenue) as avg_revenue\n",
    "    FROM Transactions_with_Revenue\n",
    "    GROUP BY weekday\n",
    "    ORDER BY avg_revenue DESC\n",
    "'''\n",
    "revenue_by_weekday = pd.read_sql_query(query, conn)\n",
    "print('Day with Most Revenue (on average):', revenue_by_weekday.iloc[0]['weekday'])\n",
    "print('Day with Least Revenue (on average):', revenue_by_weekday.iloc[-1]['weekday'])\n"
   ]
  },
  {
   "cell_type": "code",
   "execution_count": 159,
   "metadata": {},
   "outputs": [
    {
     "name": "stdout",
     "output_type": "stream",
     "text": [
      "Total New Users in December 2020: 72\n"
     ]
    }
   ],
   "source": [
    "# 4. Kết hợp với bảng 'User_Info', thêm các cột 'Age', 'Gender', 'Location', 'Type_user' vào bảng 'Transactions' và tính tổng số người dùng mới trong tháng 12 năm 2020\n",
    "query = '''\n",
    "    SELECT T.*, U.age, U.gender, U.location,\n",
    "           CASE\n",
    "               WHEN strftime('%Y-%m', T.Date) = strftime('%Y-%m', U.first_tran_date) THEN 'New'\n",
    "               ELSE 'Current'\n",
    "           END as type_user\n",
    "    FROM Transactions_with_Revenue T\n",
    "    JOIN User_Info U ON T.user_id = U.user_id\n",
    "'''\n",
    "transactions_with_user_info = pd.read_sql_query(query, conn)\n",
    "transactions_with_user_info.to_sql('Transactions_with_User_Info', conn, if_exists='replace', index=False)\n",
    "\n",
    "# Tính tổng số người dùng mới trong tháng 12 năm 2020\n",
    "query = '''\n",
    "    SELECT COUNT(DISTINCT user_id) as new_users\n",
    "    FROM Transactions_with_User_Info\n",
    "    WHERE strftime('%Y-%m', Date) = '2020-12' AND type_user = 'New'\n",
    "'''\n",
    "new_users_dec_2020 = pd.read_sql_query(query, conn)\n",
    "print('Total New Users in December 2020:', new_users_dec_2020['new_users'].iloc[0])"
   ]
  },
  {
   "cell_type": "code",
   "execution_count": 160,
   "metadata": {},
   "outputs": [
    {
     "name": "stdout",
     "output_type": "stream",
     "text": [
      "Table: Transactions\n",
      "    user_id    order_id        Date  Amount  Merchant_id Purchase_status\n",
      "0  21269588  4169517626  2020-01-01   10000           13            None\n",
      "1  28097592  4170276686  2020-01-01   20000           13            None\n",
      "2  47435144  4166729310  2020-01-01   10000           12            None\n",
      "3  29080935  4174460303  2020-01-01   10000           13            None\n",
      "4  14591075  4168216749  2020-01-01   10000           12            None\n",
      "\n",
      "\n",
      "Table: Commission\n",
      "  Merchant_name  Merchant_id  Rate_pct\n",
      "0       Viettel           12         2\n",
      "1      Mobifone           13         3\n",
      "2     Vinaphone           14         4\n",
      "3  Vietnamobile           15         4\n",
      "4       Gmobile           16         4\n",
      "\n",
      "\n",
      "Table: User_Info\n",
      "    User_id First_tran_date      Location       Age  Gender\n",
      "0  41654498      2018-05-02          HCMC  33_to_37    MALE\n",
      "1  51276281      2019-12-08  Other Cities   unknown    MALE\n",
      "2  49152375      2019-12-20  Other Cities  23_to_27    MALE\n",
      "3   5971050      2019-08-01          HCMC  28_to_32    MALE\n",
      "4  48134464      2019-08-23  Other Cities  18_to_22  FEMALE\n",
      "\n",
      "\n",
      "Table: Transactions_with_Revenue\n",
      "    user_id    order_id        Date  Amount  Merchant_id Purchase_status  \\\n",
      "0  21269588  4169517626  2020-01-01   10000           13            None   \n",
      "1  28097592  4170276686  2020-01-01   20000           13            None   \n",
      "2  47435144  4166729310  2020-01-01   10000           12            None   \n",
      "3  29080935  4174460303  2020-01-01   10000           13            None   \n",
      "4  14591075  4168216749  2020-01-01   10000           12            None   \n",
      "\n",
      "   revenue  \n",
      "0    300.0  \n",
      "1    600.0  \n",
      "2    200.0  \n",
      "3    300.0  \n",
      "4    200.0  \n",
      "\n",
      "\n",
      "Table: Transactions_with_User_Info\n",
      "    user_id    order_id        Date  Amount  Merchant_id Purchase_status  \\\n",
      "0  21269588  4169517626  2020-01-01   10000           13            None   \n",
      "1  28097592  4170276686  2020-01-01   20000           13            None   \n",
      "2  47435144  4166729310  2020-01-01   10000           12            None   \n",
      "3  29080935  4174460303  2020-01-01   10000           13            None   \n",
      "4  14591075  4168216749  2020-01-01   10000           12            None   \n",
      "\n",
      "   revenue       Age  Gender      Location type_user  \n",
      "0    300.0       >37  FEMALE            HN   Current  \n",
      "1    600.0       >37  FEMALE            HN   Current  \n",
      "2    200.0  18_to_22  female            HN   Current  \n",
      "3    300.0  18_to_22  female            HN   Current  \n",
      "4    200.0  18_to_22  FEMALE  Other Cities   Current  \n",
      "\n",
      "\n"
     ]
    }
   ],
   "source": [
    "import sqlite3\n",
    "import pandas as pd\n",
    "\n",
    "# Kết nối đến cơ sở dữ liệu SQLite\n",
    "conn = sqlite3.connect('momo_data.db')\n",
    "\n",
    "# Lấy danh sách các bảng trong cơ sở dữ liệu\n",
    "res = conn.execute(\"SELECT name FROM sqlite_master WHERE type='table';\")\n",
    "tables = res.fetchall()\n",
    "\n",
    "# In thông tin của từng bảng\n",
    "for table in tables:\n",
    "    table = table[0]\n",
    "    df = pd.read_sql_query(f\"SELECT * from {table}\", conn)\n",
    "    print(f\"Table: {table}\")\n",
    "    print(df.head())  # In 5 dòng đầu tiên của mỗi bảng\n",
    "    print(\"\\n\")\n",
    "\n",
    "# Đóng kết nối\n",
    "conn.close()"
   ]
  }
 ],
 "metadata": {
  "kernelspec": {
   "display_name": "Python 3",
   "language": "python",
   "name": "python3"
  },
  "language_info": {
   "codemirror_mode": {
    "name": "ipython",
    "version": 3
   },
   "file_extension": ".py",
   "mimetype": "text/x-python",
   "name": "python",
   "nbconvert_exporter": "python",
   "pygments_lexer": "ipython3",
   "version": "3.10.10"
  }
 },
 "nbformat": 4,
 "nbformat_minor": 2
}
